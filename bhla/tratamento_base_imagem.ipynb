{
 "cells": [
  {
   "cell_type": "code",
   "execution_count": 1,
   "id": "0a5b7a45",
   "metadata": {},
   "outputs": [],
   "source": [
    "#import\n",
    "import pandas as pd\n",
    "import cv2\n",
    "import matplotlib.pyplot as plt\n",
    "import numpy as np\n"
   ]
  },
  {
   "cell_type": "markdown",
   "id": "59579df3",
   "metadata": {},
   "source": [
    "**Buscando o menor size das imagem**"
   ]
  },
  {
   "cell_type": "code",
   "execution_count": 2,
   "id": "7d3b9644",
   "metadata": {},
   "outputs": [
    {
     "data": {
      "text/html": [
       "<div>\n",
       "<style scoped>\n",
       "    .dataframe tbody tr th:only-of-type {\n",
       "        vertical-align: middle;\n",
       "    }\n",
       "\n",
       "    .dataframe tbody tr th {\n",
       "        vertical-align: top;\n",
       "    }\n",
       "\n",
       "    .dataframe thead th {\n",
       "        text-align: right;\n",
       "    }\n",
       "</style>\n",
       "<table border=\"1\" class=\"dataframe\">\n",
       "  <thead>\n",
       "    <tr style=\"text-align: right;\">\n",
       "      <th></th>\n",
       "      <th>image_name</th>\n",
       "      <th>NEG</th>\n",
       "      <th>NEU</th>\n",
       "      <th>POS</th>\n",
       "      <th>text</th>\n",
       "      <th>sent_text</th>\n",
       "      <th>sent_image</th>\n",
       "      <th>image_path</th>\n",
       "    </tr>\n",
       "  </thead>\n",
       "  <tbody>\n",
       "    <tr>\n",
       "      <th>0</th>\n",
       "      <td>768097808037605376-1</td>\n",
       "      <td>0.919993</td>\n",
       "      <td>0.055681</td>\n",
       "      <td>0.024326</td>\n",
       "      <td>RT @hoseokahhh: \"who is this song forwhat do i...</td>\n",
       "      <td>NEG</td>\n",
       "      <td>0</td>\n",
       "      <td>data/76809/768097808037605376-1.jpg</td>\n",
       "    </tr>\n",
       "    <tr>\n",
       "      <th>1</th>\n",
       "      <td>768097833215938560-1</td>\n",
       "      <td>0.864726</td>\n",
       "      <td>0.058440</td>\n",
       "      <td>0.076834</td>\n",
       "      <td>RT @ARapperSaid_: “I ain’t come over here for ...</td>\n",
       "      <td>NEG</td>\n",
       "      <td>0</td>\n",
       "      <td>data/76809/768097833215938560-1.jpg</td>\n",
       "    </tr>\n",
       "    <tr>\n",
       "      <th>2</th>\n",
       "      <td>768097929659817984-1</td>\n",
       "      <td>0.907574</td>\n",
       "      <td>0.061396</td>\n",
       "      <td>0.031029</td>\n",
       "      <td>RT @blackedfriction: i hate telling people i l...</td>\n",
       "      <td>NEG</td>\n",
       "      <td>0</td>\n",
       "      <td>data/76809/768097929659817984-1.jpg</td>\n",
       "    </tr>\n",
       "    <tr>\n",
       "      <th>3</th>\n",
       "      <td>768097929659817984-2</td>\n",
       "      <td>0.907574</td>\n",
       "      <td>0.061396</td>\n",
       "      <td>0.031029</td>\n",
       "      <td>RT @blackedfriction: i hate telling people i l...</td>\n",
       "      <td>NEG</td>\n",
       "      <td>0</td>\n",
       "      <td>data/76809/768097929659817984-2.jpg</td>\n",
       "    </tr>\n",
       "    <tr>\n",
       "      <th>4</th>\n",
       "      <td>768097929659817984-3</td>\n",
       "      <td>0.907574</td>\n",
       "      <td>0.061396</td>\n",
       "      <td>0.031029</td>\n",
       "      <td>RT @blackedfriction: i hate telling people i l...</td>\n",
       "      <td>NEG</td>\n",
       "      <td>0</td>\n",
       "      <td>data/76809/768097929659817984-3.jpg</td>\n",
       "    </tr>\n",
       "    <tr>\n",
       "      <th>...</th>\n",
       "      <td>...</td>\n",
       "      <td>...</td>\n",
       "      <td>...</td>\n",
       "      <td>...</td>\n",
       "      <td>...</td>\n",
       "      <td>...</td>\n",
       "      <td>...</td>\n",
       "      <td>...</td>\n",
       "    </tr>\n",
       "    <tr>\n",
       "      <th>470581</th>\n",
       "      <td>804618699315539969-1</td>\n",
       "      <td>0.453963</td>\n",
       "      <td>0.387611</td>\n",
       "      <td>0.158427</td>\n",
       "      <td>Chances not to loose&amp;gt;&amp;gt;&amp;gt;https://t.co/j...</td>\n",
       "      <td>NEG</td>\n",
       "      <td>0</td>\n",
       "      <td>data/80461/804618699315539969-1.jpg</td>\n",
       "    </tr>\n",
       "    <tr>\n",
       "      <th>470582</th>\n",
       "      <td>804618854466981888-1</td>\n",
       "      <td>0.651498</td>\n",
       "      <td>0.208690</td>\n",
       "      <td>0.139812</td>\n",
       "      <td>Don't hear this much  RT @phillynewsnow: Lyft ...</td>\n",
       "      <td>NEG</td>\n",
       "      <td>0</td>\n",
       "      <td>data/80461/804618854466981888-1.jpg</td>\n",
       "    </tr>\n",
       "    <tr>\n",
       "      <th>470583</th>\n",
       "      <td>804619265546387457-1</td>\n",
       "      <td>0.473848</td>\n",
       "      <td>0.382078</td>\n",
       "      <td>0.144074</td>\n",
       "      <td>Security agencies threaten to assassinate me –...</td>\n",
       "      <td>NEG</td>\n",
       "      <td>0</td>\n",
       "      <td>data/80461/804619265546387457-1.jpg</td>\n",
       "    </tr>\n",
       "    <tr>\n",
       "      <th>470584</th>\n",
       "      <td>804619315861393408-1</td>\n",
       "      <td>0.402850</td>\n",
       "      <td>0.337901</td>\n",
       "      <td>0.259249</td>\n",
       "      <td>Kill my trusted old assistant? Why, no. I'm go...</td>\n",
       "      <td>NEG</td>\n",
       "      <td>0</td>\n",
       "      <td>data/80461/804619315861393408-1.jpg</td>\n",
       "    </tr>\n",
       "    <tr>\n",
       "      <th>470585</th>\n",
       "      <td>804619403946000384-1</td>\n",
       "      <td>0.694700</td>\n",
       "      <td>0.182601</td>\n",
       "      <td>0.122700</td>\n",
       "      <td>It’s cold outside: Winter-Essentials. - https:...</td>\n",
       "      <td>NEG</td>\n",
       "      <td>0</td>\n",
       "      <td>data/80461/804619403946000384-1.jpg</td>\n",
       "    </tr>\n",
       "  </tbody>\n",
       "</table>\n",
       "<p>470586 rows × 8 columns</p>\n",
       "</div>"
      ],
      "text/plain": [
       "                  image_name       NEG       NEU       POS  \\\n",
       "0       768097808037605376-1  0.919993  0.055681  0.024326   \n",
       "1       768097833215938560-1  0.864726  0.058440  0.076834   \n",
       "2       768097929659817984-1  0.907574  0.061396  0.031029   \n",
       "3       768097929659817984-2  0.907574  0.061396  0.031029   \n",
       "4       768097929659817984-3  0.907574  0.061396  0.031029   \n",
       "...                      ...       ...       ...       ...   \n",
       "470581  804618699315539969-1  0.453963  0.387611  0.158427   \n",
       "470582  804618854466981888-1  0.651498  0.208690  0.139812   \n",
       "470583  804619265546387457-1  0.473848  0.382078  0.144074   \n",
       "470584  804619315861393408-1  0.402850  0.337901  0.259249   \n",
       "470585  804619403946000384-1  0.694700  0.182601  0.122700   \n",
       "\n",
       "                                                     text sent_text  \\\n",
       "0       RT @hoseokahhh: \"who is this song forwhat do i...       NEG   \n",
       "1       RT @ARapperSaid_: “I ain’t come over here for ...       NEG   \n",
       "2       RT @blackedfriction: i hate telling people i l...       NEG   \n",
       "3       RT @blackedfriction: i hate telling people i l...       NEG   \n",
       "4       RT @blackedfriction: i hate telling people i l...       NEG   \n",
       "...                                                   ...       ...   \n",
       "470581  Chances not to loose&gt;&gt;&gt;https://t.co/j...       NEG   \n",
       "470582  Don't hear this much  RT @phillynewsnow: Lyft ...       NEG   \n",
       "470583  Security agencies threaten to assassinate me –...       NEG   \n",
       "470584  Kill my trusted old assistant? Why, no. I'm go...       NEG   \n",
       "470585  It’s cold outside: Winter-Essentials. - https:...       NEG   \n",
       "\n",
       "        sent_image                           image_path  \n",
       "0                0  data/76809/768097808037605376-1.jpg  \n",
       "1                0  data/76809/768097833215938560-1.jpg  \n",
       "2                0  data/76809/768097929659817984-1.jpg  \n",
       "3                0  data/76809/768097929659817984-2.jpg  \n",
       "4                0  data/76809/768097929659817984-3.jpg  \n",
       "...            ...                                  ...  \n",
       "470581           0  data/80461/804618699315539969-1.jpg  \n",
       "470582           0  data/80461/804618854466981888-1.jpg  \n",
       "470583           0  data/80461/804619265546387457-1.jpg  \n",
       "470584           0  data/80461/804619315861393408-1.jpg  \n",
       "470585           0  data/80461/804619403946000384-1.jpg  \n",
       "\n",
       "[470586 rows x 8 columns]"
      ]
     },
     "execution_count": 2,
     "metadata": {},
     "output_type": "execute_result"
    }
   ],
   "source": [
    "path = \"dataset_sidi.csv\"\n",
    "df = pd.read_csv(path, sep='\\t')\n",
    "df"
   ]
  },
  {
   "cell_type": "code",
   "execution_count": 3,
   "id": "f9e95368",
   "metadata": {},
   "outputs": [
    {
     "data": {
      "text/plain": [
       "(6, 4)"
      ]
     },
     "execution_count": 3,
     "metadata": {},
     "output_type": "execute_result"
    }
   ],
   "source": [
    "path_image = \"C:/Users/bhla/Residencia/Sidi/Analise de Sentimento/Datasets/b-t4sa_imgs/\"\n",
    "height = 10000000\n",
    "width = 100000000\n",
    "imagem_menor = \"\"\n",
    "\n",
    "for i in df[\"image_path\"]:\n",
    "\n",
    "    img = cv2.imread(path_image+i)\n",
    "    if (img.shape[0]<height and img.shape[1] <width):\n",
    "        height = img.shape[0]\n",
    "        width = img.shape[1]\n",
    "        imagem_menor  = i\n",
    "\n",
    "        \n",
    "height,width\n"
   ]
  },
  {
   "cell_type": "code",
   "execution_count": 4,
   "id": "b844bd4c",
   "metadata": {},
   "outputs": [
    {
     "data": {
      "image/png": "[encoded data removed]",
      "text/plain": [
       "<Figure size 432x288 with 1 Axes>"
      ]
     },
     "metadata": {
      "needs_background": "light"
     },
     "output_type": "display_data"
    }
   ],
   "source": [
    "img = cv2.imread(path_image+imagem_menor)\n",
    "plt.imshow(cv2.cvtColor(img, cv2.COLOR_BGR2RGB));"
   ]
  },
  {
   "cell_type": "code",
   "execution_count": 5,
   "id": "66a9b67e",
   "metadata": {},
   "outputs": [
    {
     "data": {
      "text/plain": [
       "'data/76853/768531532625555456-1.jpg'"
      ]
     },
     "execution_count": 5,
     "metadata": {},
     "output_type": "execute_result"
    }
   ],
   "source": [
    "imagem_menor\n"
   ]
  },
  {
   "cell_type": "code",
   "execution_count": null,
   "id": "3843ef49",
   "metadata": {},
   "outputs": [],
   "source": []
  }
 ],
 "metadata": {
  "kernelspec": {
   "display_name": "Python 3 (ipykernel)",
   "language": "python",
   "name": "python3"
  },
  "language_info": {
   "codemirror_mode": {
    "name": "ipython",
    "version": 3
   },
   "file_extension": ".py",
   "mimetype": "text/x-python",
   "name": "python",
   "nbconvert_exporter": "python",
   "pygments_lexer": "ipython3",
   "version": "3.8.12"
  }
 },
 "nbformat": 4,
 "nbformat_minor": 5
}
