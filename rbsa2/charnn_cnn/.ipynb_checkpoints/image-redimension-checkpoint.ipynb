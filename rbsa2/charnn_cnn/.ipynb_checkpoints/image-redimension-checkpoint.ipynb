{
 "cells": [
  {
   "cell_type": "code",
   "execution_count": null,
   "id": "bf370560-5460-4ef4-9d73-6d53456d31dc",
   "metadata": {},
   "outputs": [],
   "source": [
    "\"\"\"image_height = 224\n",
    "image_width = 224\n",
    "img = load_img(\"D:/SiDi/Project/Modulo II/dataset/b-t4sa_imgs/data/76809/768098680452767745-1.jpg\", target_size=(image_height, image_width), color_mode='grayscale')\n",
    "img\n",
    "img = load_img(\"D:/SiDi/Project/Modulo II/dataset/b-t4sa_imgs/data/76809/768099318008086529-1.jpg\", target_size=(image_height, image_width), color_mode='grayscale')\n",
    "img\"\"\""
   ]
  }
 ],
 "metadata": {
  "kernelspec": {
   "display_name": "keras-tf-gpu",
   "language": "python",
   "name": "keras-tf-gpu"
  },
  "language_info": {
   "codemirror_mode": {
    "name": "ipython",
    "version": 3
   },
   "file_extension": ".py",
   "mimetype": "text/x-python",
   "name": "python",
   "nbconvert_exporter": "python",
   "pygments_lexer": "ipython3",
   "version": "3.9.9"
  }
 },
 "nbformat": 4,
 "nbformat_minor": 5
}
